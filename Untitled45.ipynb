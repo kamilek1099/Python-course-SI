{
 "cells": [
  {
   "cell_type": "code",
   "execution_count": 1,
   "metadata": {},
   "outputs": [],
   "source": [
    "import time\n",
    "def bab(x):\n",
    "    b=[]\n",
    "    c=[]\n",
    "    z=0\n",
    "    y=int(input())\n",
    "    start=time.time()\n",
    "    for i in range(len(x)):\n",
    "        if x[i]>y:\n",
    "            b.append(i)\n",
    "            c.append(x[i])\n",
    "            z+=1\n",
    "            if z==3:\n",
    "                break\n",
    "    for t in range(2):\n",
    "        for y in range(2):\n",
    "            if c[y]<c[y+1]:\n",
    "                w=c[y]\n",
    "                c[y]=c[y+1]\n",
    "                c[y+1]=w\n",
    "                r=b[y]\n",
    "                b[y]=b[y+1]\n",
    "                b[y+1]=r\n",
    "    end=time.time()\n",
    "    p=end-start\n",
    "    return b,p\n",
    "    print(b,p)\n",
    "\n"
   ]
  },
  {
   "cell_type": "code",
   "execution_count": null,
   "metadata": {},
   "outputs": [],
   "source": []
  }
 ],
 "metadata": {
  "kernelspec": {
   "display_name": "Python 3",
   "language": "python",
   "name": "python3"
  },
  "language_info": {
   "codemirror_mode": {
    "name": "ipython",
    "version": 3
   },
   "file_extension": ".py",
   "mimetype": "text/x-python",
   "name": "python",
   "nbconvert_exporter": "python",
   "pygments_lexer": "ipython3",
   "version": "3.7.3"
  }
 },
 "nbformat": 4,
 "nbformat_minor": 2
}
