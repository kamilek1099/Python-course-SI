{
 "cells": [
  {
   "cell_type": "code",
   "execution_count": 4,
   "metadata": {},
   "outputs": [],
   "source": [
    "def sortbabe(x):\n",
    "    zbior=[]\n",
    "    for i in range(x):\n",
    "        print('Podaj liczbe')\n",
    "        zbior.append(int(input()))\n",
    "\n",
    "    for t in range(x-1):\n",
    "        for y in range(x-1):\n",
    "            if zbior[y]>zbior[y+1]:\n",
    "                z=zbior[y]\n",
    "                zbior[y]=zbior[y+1]\n",
    "                zbior[y+1]=z\n",
    "    return zbior"
   ]
  },
  {
   "cell_type": "code",
   "execution_count": null,
   "metadata": {},
   "outputs": [],
   "source": []
  },
  {
   "cell_type": "code",
   "execution_count": null,
   "metadata": {},
   "outputs": [],
   "source": []
  }
 ],
 "metadata": {
  "kernelspec": {
   "display_name": "Python 3",
   "language": "python",
   "name": "python3"
  },
  "language_info": {
   "codemirror_mode": {
    "name": "ipython",
    "version": 3
   },
   "file_extension": ".py",
   "mimetype": "text/x-python",
   "name": "python",
   "nbconvert_exporter": "python",
   "pygments_lexer": "ipython3",
   "version": "3.7.3"
  }
 },
 "nbformat": 4,
 "nbformat_minor": 2
}
