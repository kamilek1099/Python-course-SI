{
 "cells": [
  {
   "cell_type": "code",
   "execution_count": 1,
   "metadata": {},
   "outputs": [],
   "source": [
    "def sortwstaw(x):\n",
    "    zbior=[]\n",
    "    for i in range(x):\n",
    "        print('Podaj liczbe')\n",
    "        zbior.append(int(input()))\n",
    "    for i in range(x):\n",
    "        o = zbior[i]\n",
    "        j = i - 1\n",
    "        while j>=0 and zbior[j]>o:\n",
    "            zbior[j + 1] = zbior[j]\n",
    "            j = j - 1\n",
    "        zbior[j + 1] = o\n",
    "    return zbior\n",
    "\n"
   ]
  },
  {
   "cell_type": "code",
   "execution_count": null,
   "metadata": {},
   "outputs": [],
   "source": []
  }
 ],
 "metadata": {
  "kernelspec": {
   "display_name": "Python 3",
   "language": "python",
   "name": "python3"
  },
  "language_info": {
   "codemirror_mode": {
    "name": "ipython",
    "version": 3
   },
   "file_extension": ".py",
   "mimetype": "text/x-python",
   "name": "python",
   "nbconvert_exporter": "python",
   "pygments_lexer": "ipython3",
   "version": "3.7.3"
  }
 },
 "nbformat": 4,
 "nbformat_minor": 2
}
