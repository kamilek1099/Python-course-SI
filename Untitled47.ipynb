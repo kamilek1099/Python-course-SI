{
 "cells": [
  {
   "cell_type": "code",
   "execution_count": 55,
   "metadata": {},
   "outputs": [],
   "source": [
    "import time\n",
    "def ins(x):\n",
    "    b=[]\n",
    "    c=[]\n",
    "    z=0\n",
    "    y=int(input())\n",
    "    start=time.time()\n",
    "    for i in range(len(x)):\n",
    "        if x[i]>y:\n",
    "            b.append(i)\n",
    "            c.append(x[i])\n",
    "            z+=1\n",
    "            if z==3:\n",
    "                break\n",
    "    for u in range(2):\n",
    "        o = c[u]\n",
    "        l = b[u]\n",
    "        j = u -1 \n",
    "        while j>=0 and c[j]>o:\n",
    "            c[j+ 1] = c[j]\n",
    "            b[j+ 1] = b[j]\n",
    "            j = j - 1\n",
    "            c[j + 1] = o\n",
    "            b[j + 1] = l\n",
    "    end=time.time()\n",
    "    p=end-start\n",
    "    return b[2],b[1],b[0],p\n",
    "    print(b[2],b[1],b[0],p)\n",
    "\n"
   ]
  },
  {
   "cell_type": "code",
   "execution_count": null,
   "metadata": {},
   "outputs": [],
   "source": []
  },
  {
   "cell_type": "code",
   "execution_count": null,
   "metadata": {},
   "outputs": [],
   "source": []
  },
  {
   "cell_type": "code",
   "execution_count": null,
   "metadata": {},
   "outputs": [],
   "source": []
  }
 ],
 "metadata": {
  "kernelspec": {
   "display_name": "Python 3",
   "language": "python",
   "name": "python3"
  },
  "language_info": {
   "codemirror_mode": {
    "name": "ipython",
    "version": 3
   },
   "file_extension": ".py",
   "mimetype": "text/x-python",
   "name": "python",
   "nbconvert_exporter": "python",
   "pygments_lexer": "ipython3",
   "version": "3.7.3"
  }
 },
 "nbformat": 4,
 "nbformat_minor": 2
}
